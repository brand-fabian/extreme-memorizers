{
 "cells": [
  {
   "cell_type": "code",
   "execution_count": 1,
   "metadata": {},
   "outputs": [],
   "source": [
    "import pandas\n",
    "from glob import glob\n",
    "import os"
   ]
  },
  {
   "cell_type": "markdown",
   "metadata": {},
   "source": [
    "---\n",
    "\n",
    "Find all results files and read them in using pandas:"
   ]
  },
  {
   "cell_type": "code",
   "execution_count": 2,
   "metadata": {},
   "outputs": [],
   "source": [
    "files = glob('../output/*/*.variants.tsv')"
   ]
  },
  {
   "cell_type": "code",
   "execution_count": 41,
   "metadata": {},
   "outputs": [],
   "source": [
    "df = pandas.concat(pandas.read_csv(f, sep=\"\\t\") for f in filter(lambda x: os.path.getsize(x) > 1, files))\n",
    "df.to_csv(\"../output/cohort.variants.tsv\", sep=\"\\t\")"
   ]
  },
  {
   "cell_type": "markdown",
   "metadata": {},
   "source": [
    "---\n",
    "\n",
    "Now, we have a table containing all variants that we found. Keep in mind that all variants reported are in fact a cross product of `Variant x Samples x CSQ` Fields. That means a single variant if a vcf of three family members with 2 CSQ entries will generate six rows in our table. However, all rows will have an identical `var_id` column which we can use to group the data.\n",
    "\n",
    "First though, we will subset the data to only contain child-data. Since parent data is also included, a de-novo filter can be applied easily by checking the parental alleles of the variant."
   ]
  },
  {
   "cell_type": "code",
   "execution_count": 4,
   "metadata": {},
   "outputs": [],
   "source": [
    "fam = pandas.read_csv(\"../library/inova.fam\", sep=\"\\t\", names=[ \"family_id\", \"sample_id\", \"father_id\", \"mother_id\", \"sex\", \"is_affected\"])\n",
    "children = set(fam[(fam['mother_id'] != '0') & (fam['father_id'] != '0')].sample_id)"
   ]
  },
  {
   "cell_type": "code",
   "execution_count": 5,
   "metadata": {},
   "outputs": [],
   "source": [
    "children_only = df[df.sample_id.str.match('|'.join(children))]"
   ]
  },
  {
   "cell_type": "markdown",
   "metadata": {},
   "source": [
    "## Total number of variants detected\n",
    "\n",
    "After filtration, we can group by `var_id` to get the real number of non-duplicated rows. This also gives us the ratio of `Variants per Offspring`, which can be intepreted as the likelihood that a child is a carrier for a mutation under the assumption that every sample carries at most one mutation. This assumption is most likely not true and we can rectify this later."
   ]
  },
  {
   "cell_type": "code",
   "execution_count": 15,
   "metadata": {},
   "outputs": [
    {
     "data": {
      "text/plain": [
       "249"
      ]
     },
     "execution_count": 15,
     "metadata": {},
     "output_type": "execute_result"
    }
   ],
   "source": [
    "mutations = sum(map(lambda x: len(x[1].groupby('sample_id')), children_only.groupby('var_id')))\n",
    "mutations"
   ]
  },
  {
   "cell_type": "code",
   "execution_count": 16,
   "metadata": {},
   "outputs": [
    {
     "data": {
      "text/plain": [
       "0.1952941176470588"
      ]
     },
     "execution_count": 16,
     "metadata": {},
     "output_type": "execute_result"
    }
   ],
   "source": [
    "mutations / len(children)"
   ]
  },
  {
   "cell_type": "markdown",
   "metadata": {},
   "source": [
    "Accounting for the number of variants per sample, some rare cases will have two or more variants associated."
   ]
  },
  {
   "cell_type": "code",
   "execution_count": 20,
   "metadata": {},
   "outputs": [],
   "source": [
    "mut_per_carrier = list(map(lambda x: len(x[1].groupby('var_id')), children_only.groupby('sample_id')))\n",
    "carriers = len(mut_per_carrier)\n",
    "_mut = sum(mut_per_carrier) # we can validate the above result, since _mut == mutations must hold"
   ]
  },
  {
   "cell_type": "code",
   "execution_count": 24,
   "metadata": {},
   "outputs": [
    {
     "data": {
      "text/plain": [
       "0.17333333333333334"
      ]
     },
     "execution_count": 24,
     "metadata": {},
     "output_type": "execute_result"
    }
   ],
   "source": [
    "carriers / len(children)"
   ]
  },
  {
   "cell_type": "code",
   "execution_count": null,
   "metadata": {},
   "outputs": [],
   "source": []
  }
 ],
 "metadata": {
  "kernelspec": {
   "display_name": "plotly",
   "language": "python",
   "name": "plotly"
  },
  "language_info": {
   "codemirror_mode": {
    "name": "ipython",
    "version": 3
   },
   "file_extension": ".py",
   "mimetype": "text/x-python",
   "name": "python",
   "nbconvert_exporter": "python",
   "pygments_lexer": "ipython3",
   "version": "3.7.9"
  }
 },
 "nbformat": 4,
 "nbformat_minor": 4
}
