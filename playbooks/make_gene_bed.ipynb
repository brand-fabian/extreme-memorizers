{
 "cells": [
  {
   "cell_type": "code",
   "execution_count": 1,
   "metadata": {},
   "outputs": [],
   "source": [
    "import os\n",
    "import pandas"
   ]
  },
  {
   "cell_type": "code",
   "execution_count": 2,
   "metadata": {},
   "outputs": [
    {
     "data": {
      "text/plain": [
       "'/home/brand/Projects/extreme-memorizers'"
      ]
     },
     "execution_count": 2,
     "metadata": {},
     "output_type": "execute_result"
    }
   ],
   "source": [
    "os.getcwd()"
   ]
  },
  {
   "cell_type": "code",
   "execution_count": 3,
   "metadata": {},
   "outputs": [],
   "source": [
    "GENE_LIST=\"external_scripts/files/GO_REGULATION_OF_AXONOGENESIS_MSigDB_v7.1.txt\"\n",
    "REFSEQ=\"library/all_refseq_exons_ip_12.bed\""
   ]
  },
  {
   "cell_type": "code",
   "execution_count": 6,
   "metadata": {},
   "outputs": [],
   "source": [
    "bed = pandas.read_csv(REFSEQ, sep=\"\\t\", names=['chrom', 'start', 'end', 'desc'], low_memory=False)\n",
    "bed['gene'] = bed.desc.str.split('_', expand=True)[2]"
   ]
  },
  {
   "cell_type": "code",
   "execution_count": 32,
   "metadata": {},
   "outputs": [],
   "source": [
    "genes = set()\n",
    "with open(GENE_LIST, 'r') as f:\n",
    "    genes = set(f.readlines()[0].strip().split()[2:])"
   ]
  },
  {
   "cell_type": "code",
   "execution_count": 42,
   "metadata": {},
   "outputs": [],
   "source": [
    "subset = bed[bed['gene'].apply(lambda v: v in genes)]\n",
    "subset = subset.drop([ 'gene' ], axis=1)\n",
    "subset['start'] = subset['start'] - 1000\n",
    "subset['end'] = subset['end'] - 1000"
   ]
  },
  {
   "cell_type": "code",
   "execution_count": 41,
   "metadata": {},
   "outputs": [],
   "source": [
    "subset.to_csv(\"library/MSigDB_refseq.bed\", index=False, sep=\"\\t\", header=False)"
   ]
  },
  {
   "cell_type": "code",
   "execution_count": null,
   "metadata": {},
   "outputs": [],
   "source": []
  }
 ],
 "metadata": {
  "kernelspec": {
   "display_name": "Python 3.6.10 64-bit ('plotly': conda)",
   "language": "python",
   "name": "python361064bitplotlycondaa88274c312eb4f309dd762956e4eb904"
  },
  "language_info": {
   "codemirror_mode": {
    "name": "ipython",
    "version": 3
   },
   "file_extension": ".py",
   "mimetype": "text/x-python",
   "name": "python",
   "nbconvert_exporter": "python",
   "pygments_lexer": "ipython3",
   "version": "3.6.10"
  }
 },
 "nbformat": 4,
 "nbformat_minor": 4
}
